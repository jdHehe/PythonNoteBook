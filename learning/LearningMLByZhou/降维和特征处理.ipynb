{
 "cells": [
  {
   "cell_type": "code",
   "execution_count": 2,
   "metadata": {},
   "outputs": [
    {
     "ename": "SyntaxError",
     "evalue": "invalid character in identifier (<ipython-input-2-35a6725b47ea>, line 2)",
     "output_type": "error",
     "traceback": [
      "\u001b[1;36m  File \u001b[1;32m\"<ipython-input-2-35a6725b47ea>\"\u001b[1;36m, line \u001b[1;32m2\u001b[0m\n\u001b[1;33m    降维希望通过降低数据的特征维度的前提下，能够尽可能的维持样本点之间的“距离”（可能是欧式距离或者其他可能）关系\u001b[0m\n\u001b[1;37m                                                          ^\u001b[0m\n\u001b[1;31mSyntaxError\u001b[0m\u001b[1;31m:\u001b[0m invalid character in identifier\n"
     ]
    }
   ],
   "source": [
    "##  降维\n",
    "降维希望通过降低数据的特征维度的前提下，能够尽可能的维持样本点之间的“距离”（可能是欧式距离或者其他可能）关系\n",
    "\n",
    "#### 低维嵌入\n",
    "收集到的数据样本虽是高维的，但是与学习任务相关的也许仅仅是某个低维的分布，及高维空间的一个低维“嵌入”。 <br>\n",
    "\n",
    "`MDS（多维缩放）算法` <br>\n",
    "输入： 距离矩阵 $D \\in R^{m*n}$ , 目标低维空间的维数d' <br>\n",
    "输出： 矩阵 $V` * \\Lambda`^{1/2} \\in \\mathbb{R}^{m*d`} $ <br>\n",
    "过程：\n",
    "      ①计算$$d_{i.}^2=\\frac{1}{m}\\sum_{j=1}^md_{ij}^2$$  $$d_{.j}^2=\\frac{1}{m}\\sum_{i=1}^md_{ij}^2$$  $$d{..}^2=\\frac{1}{m^2}\\sum_{j=1}^m\\sum_{j=1}^md_{ij}^2$$ <br>\n",
    "      ②根据 $b_{ij}=-\\frac{1}{2}(d_{ij}^2 - d_{i.}^2 - d_{.j}^2 + d{..}^2)$ 计算整个矩阵B <br>\n",
    "      ③对矩阵B进行特征值分解； 取$\\Lambda`$ 为d`个最大特征值所构成的对角矩阵， $V`$为相应的特征向量矩阵 <br>\n",
    "    \n",
    "#### PCA 主成分分析\n",
    "一种说法是，逐一选取方差最大方向 。 <br>\n",
    "算法实现： <br>\n",
    "输入：样本集D和目标的低维维数 d` <br>\n",
    "输出：投影矩阵 $W^*={\\omega_1, \\omega_2,..., \\omega_{d`}$\n",
    "流程：\n",
    "    ①对样本进行中心化 <br>\n",
    "    ②计算样本的协方差矩阵$X*X^T$<br>\n",
    "    ③对②中的协方差矩阵进行特征值分解<br>\n",
    "    ④取最大的d`个特征对应的特征向量<br>\n",
    "              \n",
    "`核化线性降维`： \n",
    "              \n",
    "例如： 核主成分分析，将样本映射到高维特征空间，再在高维特征空间实施PCA即可。\n",
    "              \n",
    "#### 流形学习\n",
    "#### 度量学习            \n",
    "\n"
   ]
  },
  {
   "cell_type": "code",
   "execution_count": null,
   "metadata": {
    "collapsed": true
   },
   "outputs": [],
   "source": []
  }
 ],
 "metadata": {
  "kernelspec": {
   "display_name": "Python 3",
   "language": "python",
   "name": "python3"
  },
  "language_info": {
   "codemirror_mode": {
    "name": "ipython",
    "version": 3
   },
   "file_extension": ".py",
   "mimetype": "text/x-python",
   "name": "python",
   "nbconvert_exporter": "python",
   "pygments_lexer": "ipython3",
   "version": "3.6.3"
  }
 },
 "nbformat": 4,
 "nbformat_minor": 2
}
