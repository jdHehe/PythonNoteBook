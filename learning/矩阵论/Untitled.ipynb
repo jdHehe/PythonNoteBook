{
 "cells": [
  {
   "cell_type": "markdown",
   "metadata": {},
   "source": [
    "## 矩阵论学习笔记\n",
    "\n",
    "### 矩阵的逆\n",
    "矩阵逆的表示： \n",
    "$$A*A^{-1} = I$$      \n",
    "$$(AB)^{-1} = B^{-1}*A^{-1}$$  \n",
    "$$(A^{-1})^T*A^T=I$$"
   ]
  },
  {
   "cell_type": "markdown",
   "metadata": {},
   "source": []
  }
 ],
 "metadata": {
  "kernelspec": {
   "display_name": "Python 3",
   "language": "python",
   "name": "python3"
  },
  "language_info": {
   "codemirror_mode": {
    "name": "ipython",
    "version": 3
   },
   "file_extension": ".py",
   "mimetype": "text/x-python",
   "name": "python",
   "nbconvert_exporter": "python",
   "pygments_lexer": "ipython3",
   "version": "3.6.3"
  }
 },
 "nbformat": 4,
 "nbformat_minor": 2
}
