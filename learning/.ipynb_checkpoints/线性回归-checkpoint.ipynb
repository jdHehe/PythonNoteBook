{
 "cells": [
  {
   "cell_type": "markdown",
   "metadata": {},
   "source": [
    "## 线性回归\n",
    "\n",
    "####  用到的包\n",
    "`sklearn.linear_model.LinearRegression` 利用sklearn的已有的模型进行相关的训练\n",
    "`sklearn.preprocessing.StandardScaler`  对数据进行标准化的处理：减去均值、除以标准差\n",
    "`sklearn.pipeline.Pipeline`             通过Pipiline将多个处理流程串联起来\n",
    "\n",
    "###### numpy 相关\n",
    "`np.hsplit`   将一个array水平分割成多个数组\n",
    "`np.linalg.lstq`   用最小二乘法计算线性矩阵方程合适的参数\n",
    "`np.linalg.solve`  解线性方程，a*x=b   a,b是参数\n",
    "`np.linalg.inv`    计算矩阵的逆\n",
    "`np.linalg.pinv`   计算伪逆\n",
    "`np.c_`            按列组合array\n",
    "`np.r_`            按行组合array\n",
    "\n",
    "    "
   ]
  },
  {
   "cell_type": "code",
   "execution_count": 1,
   "metadata": {
    "collapsed": true
   },
   "outputs": [],
   "source": [
    "import numpy as np\n",
    "from sklearn.preprocessing import PolynomialFeatures"
   ]
  },
  {
   "cell_type": "code",
   "execution_count": 10,
   "metadata": {},
   "outputs": [
    {
     "data": {
      "text/plain": [
       "array([[1, 4],\n",
       "       [4, 1]])"
      ]
     },
     "execution_count": 10,
     "metadata": {},
     "output_type": "execute_result"
    }
   ],
   "source": [
    "np.c_[np.array([1,4]), np.array([4,1])]"
   ]
  },
  {
   "cell_type": "code",
   "execution_count": null,
   "metadata": {
    "collapsed": true
   },
   "outputs": [],
   "source": [
    "####  正则化对数据的影响\n",
    "##### 预处理\n",
    "`sklearn.preprocessing.PolynomialFeatures`  \n",
    "多项式特征处理，将输入的特征转化为多项式特征集   例如：如果是2阶多项式 则输入 [a, b], 输出特征[1, a, b, a^2, ab, b^2]"
   ]
  },
  {
   "cell_type": "code",
   "execution_count": null,
   "metadata": {
    "collapsed": true
   },
   "outputs": [],
   "source": [
    "####  多分类问题\n",
    "#####  用到的包\n",
    "`scipy` \n",
    "`numpy.linspace`  生成等间距的int 值序列\n",
    "\n",
    "\n",
    "#####  Logistic Regression\n",
    "\n",
    "\n",
    "#####  神经网络 Neural Network\n",
    "`sklearn.neural_network.MLPClassifier`  \n",
    "`sklearn.model_selection.StratifiedShuffleSplit`  直接从数据sample中按照比例取数据进行交叉验证\n",
    "`sklearn.model_selection.GridSearchCV`            根据指定的estimator(分类器)寻找最优的参数，适合小数据集          \n",
    "\n",
    "\n",
    "#####  偏差和方程 bias & variance\n",
    "展现 过拟合、欠拟合和good fit\n",
    "`sklearn.model_selection.learning_curve`   用学习曲线learning curve判断是否有过拟合的现象\n"
   ]
  },
  {
   "cell_type": "code",
   "execution_count": 16,
   "metadata": {
    "collapsed": true
   },
   "outputs": [],
   "source": [
    "import csv\n",
    "import scipy as sp\n",
    "import scipy.io as sio\n",
    "from sklearn.model_selection import ShuffleSplit, learning_curve\n",
    "import matplotlib.pyplot as plt\n",
    "from sklearn.svm import SVC, LinearSVC"
   ]
  },
  {
   "cell_type": "code",
   "execution_count": 5,
   "metadata": {
    "collapsed": true
   },
   "outputs": [],
   "source": [
    "digits = sio.loadmat(\"D:\\\\learningMaterial\\\\PythonLanguage\\\\NoteBook\\\\machine-learning-notebooks-master\\\\data\\\\ml-ex3\\\\ex3data1.mat\")"
   ]
  },
  {
   "cell_type": "code",
   "execution_count": 20,
   "metadata": {},
   "outputs": [
    {
     "data": {
      "text/plain": [
       "<enumerate at 0x90d3b88>"
      ]
     },
     "execution_count": 20,
     "metadata": {},
     "output_type": "execute_result"
    }
   ],
   "source": [
    "X = digits['X']\n",
    "y = digits['y'].ravel()\n",
    "selected = np.linspace(0, X.shape[0] - 1, 300, dtype='int16')\n",
    "sigmoid = sp.special.expit"
   ]
  },
  {
   "cell_type": "code",
   "execution_count": 14,
   "metadata": {},
   "outputs": [
    {
     "data": {
      "text/plain": [
       "400"
      ]
     },
     "execution_count": 14,
     "metadata": {},
     "output_type": "execute_result"
    }
   ],
   "source": [
    "len(X[0])"
   ]
  },
  {
   "cell_type": "code",
   "execution_count": null,
   "metadata": {
    "collapsed": true
   },
   "outputs": [],
   "source": [
    "# 计算 回归器 的 分别在 训练集 和测试集上的表现\n",
    "def compute_learning_curves(regressor, X_train, y_train, test_size):\n",
    "    cv = ShuffleSplit(n_splits=50, test_size=test_size, random_state=0)\n",
    "    train_sizes_rel = np.linspace(.1, 1.0, 10)\n",
    "    train_sizes, train_scores, test_scores = learning_curve(regressor, X_train, y_train, cv=cv, train_sizes=train_sizes_rel)\n",
    "    return [train_sizes, np.mean(train_scores, axis=1), np.mean(test_scores, axis=1)]"
   ]
  },
  {
   "cell_type": "markdown",
   "metadata": {},
   "source": [
    "### SVM\n",
    "`sklearn.svm`   利用支持向量机算法进行分类问题求解"
   ]
  },
  {
   "cell_type": "code",
   "execution_count": 50,
   "metadata": {
    "collapsed": true
   },
   "outputs": [],
   "source": [
    "def plot_data(X, y):\n",
    "    plt.plot(X[y == 0, 0], X[y == 0, 1], 'yo', label='neg')\n",
    "    plt.plot(X[y == 1, 0], X[y == 1, 1], 'b+', label='pos')\n",
    "    plt.xlabel('x1')\n",
    "    plt.ylabel('x2')\n",
    "    plt.legend(loc='lower left')\n",
    "def plot_bounday(X, clf, level=0.0):\n",
    "    x1_min, x1_max = X[:, 0].min(), X[:, 0].max()\n",
    "    x2_min, x2_max = X[:, 1].min(), X[:, 1].max()\n",
    "    h = 0.01\n",
    "    grid_x1, grid_x2 = np.meshgrid(np.arange(x1_min, x1_max, h), \n",
    "                                   np.arange(x2_min, x2_max, h))\n",
    "    grid_y = clf.predict(np.c_[grid_x1.ravel(), grid_x2.ravel()])\n",
    "    grid_y = grid_y.reshape(grid_x1.shape)\n",
    "    x1_extra = (x1_max-x1_min) / 50\n",
    "    x2_extra = (x2_max-x2_min) / 50\n",
    "    plt.xlim(x1_min -x1_extra, x1_max+x1_extra)\n",
    "    plt.ylim(x2_min -x2_extra, x2_max+x2_extra)\n",
    "    plt.contour(grid_x1, grid_x2, grid_y, levels=[level])\n",
    "    \n",
    "\n",
    "def plot_boundary_XY(X, clf, level=0.0):\n",
    "    '''Plots a decision boundary using trained classifier clf.\n",
    "    \n",
    "    The decision boundary is drawn at given level (default=0.0)\n",
    "    in the range of X. X must be an array of shape (m,2).\n",
    "    '''\n",
    "    \n",
    "    x1_min, x1_max = X[:, 0].min(), X[:, 0].max()\n",
    "    x2_min, x2_max = X[:, 1].min(), X[:, 1].max()\n",
    "\n",
    "    h = 0.01 # grid step size\n",
    "    grid_x1, grid_x2 = np.meshgrid(np.arange(x1_min, x1_max, h),\n",
    "                                   np.arange(x2_min, x2_max, h))\n",
    "    \n",
    "    grid_y = clf.predict(np.c_[grid_x1.ravel(), grid_x2.ravel()])\n",
    "    grid_y = grid_y.reshape(grid_x1.shape)\n",
    "\n",
    "    x1_extra = (x1_max - x1_min) / 50\n",
    "    x2_extra = (x2_max - x2_min) / 50\n",
    "    \n",
    "    plt.xlim(x1_min - x1_extra, x1_max + x1_extra)\n",
    "    plt.ylim(x2_min - x2_extra, x2_max + x2_extra)\n",
    "    \n",
    "    plt.contour(grid_x1, grid_x2, grid_y, levels=[level])"
   ]
  },
  {
   "cell_type": "code",
   "execution_count": 6,
   "metadata": {
    "collapsed": true
   },
   "outputs": [],
   "source": [
    "data = sio.loadmat(\"D:\\\\learningMaterial\\\\PythonLanguage\\\\NoteBook\\\\machine-learning-notebooks-master\\\\data\\\\ml-ex6\\\\ex6data1.mat\")"
   ]
  },
  {
   "cell_type": "code",
   "execution_count": 19,
   "metadata": {
    "collapsed": true
   },
   "outputs": [],
   "source": [
    "X = data['X']\n",
    "y = data['y'].ravel()\n"
   ]
  },
  {
   "cell_type": "code",
   "execution_count": 30,
   "metadata": {},
   "outputs": [
    {
     "data": {
      "image/png": "[encoded data removed]",
      "text/plain": [
       "<matplotlib.figure.Figure at 0xa432470>"
      ]
     },
     "metadata": {},
     "output_type": "display_data"
    }
   ],
   "source": [
    "plot_data(X, y)\n",
    "plt.show()"
   ]
  },
  {
   "cell_type": "code",
   "execution_count": 32,
   "metadata": {},
   "outputs": [
    {
     "data": {
      "text/plain": [
       "SVC(C=1, cache_size=200, class_weight=None, coef0=0.0,\n",
       "  decision_function_shape='ovr', degree=3, gamma='auto', kernel='linear',\n",
       "  max_iter=-1, probability=False, random_state=None, shrinking=True,\n",
       "  tol=0.001, verbose=False)"
      ]
     },
     "execution_count": 32,
     "metadata": {},
     "output_type": "execute_result"
    }
   ],
   "source": [
    "clf = SVC(C=1, kernel='linear')\n",
    "clf.fit(X, y)"
   ]
  },
  {
   "cell_type": "code",
   "execution_count": 52,
   "metadata": {},
   "outputs": [
    {
     "name": "stderr",
     "output_type": "stream",
     "text": [
      "D:\\software\\Anaconda\\lib\\site-packages\\matplotlib\\contour.py:1180: UserWarning: No contour levels were found within the data range.\n",
      "  warnings.warn(\"No contour levels were found\"\n"
     ]
    },
    {
     "data": {
      "image/png": "[encoded data removed]",
      "text/plain": [
       "<matplotlib.figure.Figure at 0xc5c9208>"
      ]
     },
     "metadata": {},
     "output_type": "display_data"
    }
   ],
   "source": [
    "# plot_boundary_XY(X, clf=clf)\n",
    "plot_data(X, y)\n",
    "plot_bounday(X, clf=clf)\n",
    "plt.show()"
   ]
  },
  {
   "cell_type": "code",
   "execution_count": 53,
   "metadata": {
    "collapsed": true
   },
   "outputs": [],
   "source": [
    "data2 = sio.loadmat(\"D:\\\\learningMaterial\\\\PythonLanguage\\\\NoteBook\\\\machine-learning-notebooks-master\\\\data\\\\ml-ex6\\\\ex6data2.mat\")"
   ]
  },
  {
   "cell_type": "code",
   "execution_count": 57,
   "metadata": {},
   "outputs": [
    {
     "name": "stderr",
     "output_type": "stream",
     "text": [
      "D:\\software\\Anaconda\\lib\\site-packages\\matplotlib\\contour.py:1180: UserWarning: No contour levels were found within the data range.\n",
      "  warnings.warn(\"No contour levels were found\"\n"
     ]
    },
    {
     "data": {
      "image/png": "[encoded data removed]",
      "text/plain": [
       "<matplotlib.figure.Figure at 0xc67d5f8>"
      ]
     },
     "metadata": {},
     "output_type": "display_data"
    }
   ],
   "source": [
    "X = data2['X']\n",
    "y = data2['y'].ravel()\n",
    "clf2 = SVC(C=1, kernel='rbf', gamma=100)\n",
    "clf2.fit(X, y)\n",
    "plot_data(X, y)\n",
    "plot_bounday(X, clf2)\n",
    "plt.show()"
   ]
  },
  {
   "cell_type": "code",
   "execution_count": null,
   "metadata": {
    "collapsed": true
   },
   "outputs": [],
   "source": [
    "# 垃圾邮件分类"
   ]
  },
  {
   "cell_type": "code",
   "execution_count": 3,
   "metadata": {
    "collapsed": true
   },
   "outputs": [],
   "source": [
    "data_train = sio.loadmat(\"D:\\\\learningMaterial\\\\PythonLanguage\\\\NoteBook\\\\machine-learning-notebooks-master\\\\data\\\\ml-ex6\\\\spamTrain.mat\")\n",
    "data_test = sio.loadmat(\"D:\\\\learningMaterial\\\\PythonLanguage\\\\NoteBook\\\\machine-learning-notebooks-master\\\\data\\\\ml-ex6\\\\spamTest.mat\")"
   ]
  },
  {
   "cell_type": "code",
   "execution_count": 14,
   "metadata": {},
   "outputs": [
    {
     "name": "stdout",
     "output_type": "stream",
     "text": [
      "(4000, 1899) (1000, 1899) (4000,) (1000,) <class 'numpy.ndarray'>\n"
     ]
    }
   ],
   "source": [
    "X_train = data_train['X']\n",
    "X_test = data_test['Xtest']\n",
    "y_train = data_train['y'].ravel()\n",
    "y_test = data_test['ytest'].ravel()\n",
    "print(X_train.shape, X_test.shape, y_train.shape, y_test.shape, type(y_test))"
   ]
  },
  {
   "cell_type": "code",
   "execution_count": 15,
   "metadata": {},
   "outputs": [
    {
     "data": {
      "text/plain": [
       "0.99199999999999999"
      ]
     },
     "execution_count": 15,
     "metadata": {},
     "output_type": "execute_result"
    }
   ],
   "source": [
    "clf = LinearSVC(C=0.1)\n",
    "clf.fit(X_train, y_train)\n",
    "train_score = clf.score(X_train, y_train)\n",
    "test_score = clf.score(X_test, y_test)\n",
    "print(train_score, test_score)"
   ]
  },
  {
   "cell_type": "code",
   "execution_count": 19,
   "metadata": {
    "collapsed": true
   },
   "outputs": [],
   "source": [
    "\n",
    "vocab = {}\n",
    "with open('D:\\\\learningMaterial\\\\PythonLanguage\\\\NoteBook\\\\machine-learning-notebooks-master\\\\data\\\\ml-ex6\\\\vocab.txt') as vocab_file:\n",
    "   #按行读取，然后按照制表符分割\n",
    "    for row in csv.reader(vocab_file, delimiter='\\t'):\n",
    "        word = row[1]\n",
    "        index = int(row[0]) -1\n",
    "        vocab[word] = index"
   ]
  },
  {
   "cell_type": "code",
   "execution_count": 20,
   "metadata": {},
   "outputs": [
    {
     "name": "stdout",
     "output_type": "stream",
     "text": [
      "{'aa': 0, 'ab': 1, 'abil': 2, 'abl': 3, 'about': 4, 'abov': 5, 'absolut': 6, 'abus': 7, 'ac': 8, 'accept': 9, 'access': 10, 'accord': 11, 'account': 12, 'achiev': 13, 'acquir': 14, 'across': 15, 'act': 16, 'action': 17, 'activ': 18, 'actual': 19, 'ad': 20, 'adam': 21, 'add': 22, 'addit': 23, 'address': 24, 'administr': 25, 'adult': 26, 'advanc': 27, 'advantag': 28, 'advertis': 29, 'advic': 30, 'advis': 31, 'ae': 32, 'af': 33, 'affect': 34, 'affili': 35, 'afford': 36, 'africa': 37, 'after': 38, 'ag': 39, 'again': 40, 'against': 41, 'agenc': 42, 'agent': 43, 'ago': 44, 'agre': 45, 'agreement': 46, 'aid': 47, 'air': 48, 'al': 49, 'alb': 50, 'align': 51, 'all': 52, 'allow': 53, 'almost': 54, 'alon': 55, 'along': 56, 'alreadi': 57, 'alsa': 58, 'also': 59, 'altern': 60, 'although': 61, 'alwai': 62, 'am': 63, 'amaz': 64, 'america': 65, 'american': 66, 'among': 67, 'amount': 68, 'amp': 69, 'an': 70, 'analysi': 71, 'analyst': 72, 'and': 73, 'ani': 74, 'anim': 75, 'announc': 76, 'annual': 77, 'annuiti': 78, 'anoth': 79, 'answer': 80, 'anti': 81, 'anumb': 82, 'anybodi': 83, 'anymor': 84, 'anyon': 85, 'anyth': 86, 'anywai': 87, 'anywher': 88, 'aol': 89, 'ap': 90, 'apolog': 91, 'app': 92, 'appar': 93, 'appear': 94, 'appl': 95, 'appli': 96, 'applic': 97, 'appreci': 98, 'approach': 99, 'approv': 100, 'apt': 101, 'ar': 102, 'archiv': 103, 'area': 104, 'aren': 105, 'argument': 106, 'arial': 107, 'arm': 108, 'around': 109, 'arrai': 110, 'arriv': 111, 'art': 112, 'articl': 113, 'artist': 114, 'as': 115, 'ascii': 116, 'ask': 117, 'asset': 118, 'assist': 119, 'associ': 120, 'assum': 121, 'assur': 122, 'at': 123, 'atol': 124, 'attach': 125, 'attack': 126, 'attempt': 127, 'attent': 128, 'attornei': 129, 'attract': 130, 'audio': 131, 'aug': 132, 'august': 133, 'author': 134, 'auto': 135, 'autom': 136, 'automat': 137, 'avail': 138, 'averag': 139, 'avoid': 140, 'awai': 141, 'awar': 142, 'award': 143, 'ba': 144, 'babi': 145, 'back': 146, 'background': 147, 'backup': 148, 'bad': 149, 'balanc': 150, 'ban': 151, 'bank': 152, 'bar': 153, 'base': 154, 'basenumb': 155, 'basi': 156, 'basic': 157, 'bb': 158, 'bc': 159, 'bd': 160, 'be': 161, 'beat': 162, 'beberg': 163, 'becaus': 164, 'becom': 165, 'been': 166, 'befor': 167, 'begin': 168, 'behalf': 169, 'behavior': 170, 'behind': 171, 'believ': 172, 'below': 173, 'benefit': 174, 'best': 175, 'beta': 176, 'better': 177, 'between': 178, 'bf': 179, 'big': 180, 'bill': 181, 'billion': 182, 'bin': 183, 'binari': 184, 'bit': 185, 'black': 186, 'blank': 187, 'block': 188, 'blog': 189, 'blood': 190, 'blue': 191, 'bnumber': 192, 'board': 193, 'bodi': 194, 'boi': 195, 'bonu': 196, 'book': 197, 'boot': 198, 'border': 199, 'boss': 200, 'boston': 201, 'botan': 202, 'both': 203, 'bottl': 204, 'bottom': 205, 'boundari': 206, 'box': 207, 'brain': 208, 'brand': 209, 'break': 210, 'brian': 211, 'bring': 212, 'broadcast': 213, 'broker': 214, 'browser': 215, 'bug': 216, 'bui': 217, 'build': 218, 'built': 219, 'bulk': 220, 'burn': 221, 'bush': 222, 'busi': 223, 'but': 224, 'button': 225, 'by': 226, 'byte': 227, 'ca': 228, 'cabl': 229, 'cach': 230, 'calcul': 231, 'california': 232, 'call': 233, 'came': 234, 'camera': 235, 'campaign': 236, 'can': 237, 'canada': 238, 'cannot': 239, 'canon': 240, 'capabl': 241, 'capillari': 242, 'capit': 243, 'car': 244, 'card': 245, 'care': 246, 'career': 247, 'carri': 248, 'cartridg': 249, 'case': 250, 'cash': 251, 'cat': 252, 'catch': 253, 'categori': 254, 'caus': 255, 'cb': 256, 'cc': 257, 'cd': 258, 'ce': 259, 'cell': 260, 'cent': 261, 'center': 262, 'central': 263, 'centuri': 264, 'ceo': 265, 'certain': 266, 'certainli': 267, 'cf': 268, 'challeng': 269, 'chanc': 270, 'chang': 271, 'channel': 272, 'char': 273, 'charact': 274, 'charg': 275, 'charset': 276, 'chat': 277, 'cheap': 278, 'check': 279, 'cheer': 280, 'chief': 281, 'children': 282, 'china': 283, 'chip': 284, 'choic': 285, 'choos': 286, 'chri': 287, 'citi': 288, 'citizen': 289, 'civil': 290, 'claim': 291, 'class': 292, 'classifi': 293, 'clean': 294, 'clear': 295, 'clearli': 296, 'click': 297, 'client': 298, 'close': 299, 'clue': 300, 'cnet': 301, 'cnumber': 302, 'co': 303, 'code': 304, 'collect': 305, 'colleg': 306, 'color': 307, 'com': 308, 'combin': 309, 'come': 310, 'comfort': 311, 'command': 312, 'comment': 313, 'commentari': 314, 'commerci': 315, 'commiss': 316, 'commit': 317, 'common': 318, 'commun': 319, 'compani': 320, 'compar': 321, 'comparison': 322, 'compat': 323, 'compet': 324, 'competit': 325, 'compil': 326, 'complet': 327, 'comprehens': 328, 'comput': 329, 'concentr': 330, 'concept': 331, 'concern': 332, 'condit': 333, 'conf': 334, 'confer': 335, 'confid': 336, 'confidenti': 337, 'config': 338, 'configur': 339, 'confirm': 340, 'conflict': 341, 'confus': 342, 'congress': 343, 'connect': 344, 'consid': 345, 'consolid': 346, 'constitut': 347, 'construct': 348, 'consult': 349, 'consum': 350, 'contact': 351, 'contain': 352, 'content': 353, 'continu': 354, 'contract': 355, 'contribut': 356, 'control': 357, 'conveni': 358, 'convers': 359, 'convert': 360, 'cool': 361, 'cooper': 362, 'copi': 363, 'copyright': 364, 'core': 365, 'corpor': 366, 'correct': 367, 'correspond': 368, 'cost': 369, 'could': 370, 'couldn': 371, 'count': 372, 'countri': 373, 'coupl': 374, 'cours': 375, 'court': 376, 'cover': 377, 'coverag': 378, 'crash': 379, 'creat': 380, 'creativ': 381, 'credit': 382, 'critic': 383, 'cross': 384, 'cultur': 385, 'current': 386, 'custom': 387, 'cut': 388, 'cv': 389, 'da': 390, 'dagga': 391, 'dai': 392, 'daili': 393, 'dan': 394, 'danger': 395, 'dark': 396, 'data': 397, 'databas': 398, 'datapow': 399, 'date': 400, 'dave': 401, 'david': 402, 'dc': 403, 'de': 404, 'dead': 405, 'deal': 406, 'dear': 407, 'death': 408, 'debt': 409, 'decad': 410, 'decid': 411, 'decis': 412, 'declar': 413, 'declin': 414, 'decor': 415, 'default': 416, 'defend': 417, 'defens': 418, 'defin': 419, 'definit': 420, 'degre': 421, 'delai': 422, 'delet': 423, 'deliv': 424, 'deliveri': 425, 'dell': 426, 'demand': 427, 'democrat': 428, 'depart': 429, 'depend': 430, 'deposit': 431, 'describ': 432, 'descript': 433, 'deserv': 434, 'design': 435, 'desir': 436, 'desktop': 437, 'despit': 438, 'detail': 439, 'detect': 440, 'determin': 441, 'dev': 442, 'devel': 443, 'develop': 444, 'devic': 445, 'di': 446, 'dial': 447, 'did': 448, 'didn': 449, 'diet': 450, 'differ': 451, 'difficult': 452, 'digit': 453, 'direct': 454, 'directli': 455, 'director': 456, 'directori': 457, 'disabl': 458, 'discount': 459, 'discov': 460, 'discoveri': 461, 'discuss': 462, 'disk': 463, 'displai': 464, 'disposit': 465, 'distanc': 466, 'distribut': 467, 'dn': 468, 'dnumber': 469, 'do': 470, 'doc': 471, 'document': 472, 'doe': 473, 'doer': 474, 'doesn': 475, 'dollar': 476, 'dollarac': 477, 'dollarnumb': 478, 'domain': 479, 'don': 480, 'done': 481, 'dont': 482, 'doubl': 483, 'doubt': 484, 'down': 485, 'download': 486, 'dr': 487, 'draw': 488, 'dream': 489, 'drive': 490, 'driver': 491, 'drop': 492, 'drug': 493, 'due': 494, 'dure': 495, 'dvd': 496, 'dw': 497, 'dynam': 498, 'ea': 499, 'each': 500, 'earli': 501, 'earlier': 502, 'earn': 503, 'earth': 504, 'easi': 505, 'easier': 506, 'easili': 507, 'eat': 508, 'eb': 509, 'ebai': 510, 'ec': 511, 'echo': 512, 'econom': 513, 'economi': 514, 'ed': 515, 'edg': 516, 'edit': 517, 'editor': 518, 'educ': 519, 'eff': 520, 'effect': 521, 'effici': 522, 'effort': 523, 'either': 524, 'el': 525, 'electron': 526, 'elimin': 527, 'els': 528, 'email': 529, 'emailaddr': 530, 'emerg': 531, 'empir': 532, 'employ': 533, 'employe': 534, 'en': 535, 'enabl': 536, 'encod': 537, 'encourag': 538, 'end': 539, 'enemi': 540, 'enenkio': 541, 'energi': 542, 'engin': 543, 'english': 544, 'enhanc': 545, 'enjoi': 546, 'enough': 547, 'ensur': 548, 'enter': 549, 'enterpris': 550, 'entertain': 551, 'entir': 552, 'entri': 553, 'enumb': 554, 'environ': 555, 'equal': 556, 'equip': 557, 'equival': 558, 'error': 559, 'especi': 560, 'essenti': 561, 'establish': 562, 'estat': 563, 'estim': 564, 'et': 565, 'etc': 566, 'euro': 567, 'europ': 568, 'european': 569, 'even': 570, 'event': 571, 'eventu': 572, 'ever': 573, 'everi': 574, 'everyon': 575, 'everyth': 576, 'evid': 577, 'evil': 578, 'exactli': 579, 'exampl': 580, 'excel': 581, 'except': 582, 'exchang': 583, 'excit': 584, 'exclus': 585, 'execut': 586, 'exercis': 587, 'exist': 588, 'exmh': 589, 'expand': 590, 'expect': 591, 'expens': 592, 'experi': 593, 'expert': 594, 'expir': 595, 'explain': 596, 'explor': 597, 'express': 598, 'extend': 599, 'extens': 600, 'extra': 601, 'extract': 602, 'extrem': 603, 'ey': 604, 'fa': 605, 'face': 606, 'fact': 607, 'factor': 608, 'fail': 609, 'fair': 610, 'fall': 611, 'fals': 612, 'famili': 613, 'faq': 614, 'far': 615, 'fast': 616, 'faster': 617, 'fastest': 618, 'fat': 619, 'father': 620, 'favorit': 621, 'fax': 622, 'fb': 623, 'fd': 624, 'featur': 625, 'feder': 626, 'fee': 627, 'feed': 628, 'feedback': 629, 'feel': 630, 'femal': 631, 'few': 632, 'ffffff': 633, 'ffnumber': 634, 'field': 635, 'fight': 636, 'figur': 637, 'file': 638, 'fill': 639, 'film': 640, 'filter': 641, 'final': 642, 'financ': 643, 'financi': 644, 'find': 645, 'fine': 646, 'finish': 647, 'fire': 648, 'firewal': 649, 'firm': 650, 'first': 651, 'fit': 652, 'five': 653, 'fix': 654, 'flag': 655, 'flash': 656, 'flow': 657, 'fnumber': 658, 'focu': 659, 'folder': 660, 'folk': 661, 'follow': 662, 'font': 663, 'food': 664, 'for': 665, 'forc': 666, 'foreign': 667, 'forev': 668, 'forget': 669, 'fork': 670, 'form': 671, 'format': 672, 'former': 673, 'fortun': 674, 'forward': 675, 'found': 676, 'foundat': 677, 'four': 678, 'franc': 679, 'free': 680, 'freedom': 681, 'french': 682, 'freshrpm': 683, 'fri': 684, 'fridai': 685, 'friend': 686, 'from': 687, 'front': 688, 'ftoc': 689, 'ftp': 690, 'full': 691, 'fulli': 692, 'fun': 693, 'function': 694, 'fund': 695, 'further': 696, 'futur': 697, 'ga': 698, 'gain': 699, 'game': 700, 'gari': 701, 'garrigu': 702, 'gave': 703, 'gcc': 704, 'geek': 705, 'gener': 706, 'get': 707, 'gif': 708, 'gift': 709, 'girl': 710, 'give': 711, 'given': 712, 'global': 713, 'gnome': 714, 'gnu': 715, 'gnupg': 716, 'go': 717, 'goal': 718, 'god': 719, 'goe': 720, 'gold': 721, 'gone': 722, 'good': 723, 'googl': 724, 'got': 725, 'govern': 726, 'gpl': 727, 'grand': 728, 'grant': 729, 'graphic': 730, 'great': 731, 'greater': 732, 'ground': 733, 'group': 734, 'grow': 735, 'growth': 736, 'gt': 737, 'guarante': 738, 'guess': 739, 'gui': 740, 'guid': 741, 'ha': 742, 'hack': 743, 'had': 744, 'half': 745, 'ham': 746, 'hand': 747, 'handl': 748, 'happen': 749, 'happi': 750, 'hard': 751, 'hardwar': 752, 'hat': 753, 'hate': 754, 'have': 755, 'haven': 756, 'he': 757, 'head': 758, 'header': 759, 'headlin': 760, 'health': 761, 'hear': 762, 'heard': 763, 'heart': 764, 'heaven': 765, 'hei': 766, 'height': 767, 'held': 768, 'hello': 769, 'help': 770, 'helvetica': 771, 'her': 772, 'herba': 773, 'here': 774, 'hermio': 775, 'hettinga': 776, 'hi': 777, 'high': 778, 'higher': 779, 'highli': 780, 'highlight': 781, 'him': 782, 'histori': 783, 'hit': 784, 'hold': 785, 'home': 786, 'honor': 787, 'hope': 788, 'host': 789, 'hot': 790, 'hour': 791, 'hous': 792, 'how': 793, 'howev': 794, 'hp': 795, 'html': 796, 'http': 797, 'httpaddr': 798, 'huge': 799, 'human': 800, 'hundr': 801, 'ibm': 802, 'id': 803, 'idea': 804, 'ident': 805, 'identifi': 806, 'idnumb': 807, 'ie': 808, 'if': 809, 'ignor': 810, 'ii': 811, 'iii': 812, 'iiiiiiihnumberjnumberhnumberjnumberhnumb': 813, 'illeg': 814, 'im': 815, 'imag': 816, 'imagin': 817, 'immedi': 818, 'impact': 819, 'implement': 820, 'import': 821, 'impress': 822, 'improv': 823, 'in': 824, 'inc': 825, 'includ': 826, 'incom': 827, 'increas': 828, 'incred': 829, 'inde': 830, 'independ': 831, 'index': 832, 'india': 833, 'indian': 834, 'indic': 835, 'individu': 836, 'industri': 837, 'info': 838, 'inform': 839, 'initi': 840, 'inlin': 841, 'innov': 842, 'input': 843, 'insert': 844, 'insid': 845, 'instal': 846, 'instanc': 847, 'instant': 848, 'instead': 849, 'institut': 850, 'instruct': 851, 'insur': 852, 'int': 853, 'integr': 854, 'intel': 855, 'intellig': 856, 'intend': 857, 'interact': 858, 'interest': 859, 'interfac': 860, 'intern': 861, 'internet': 862, 'interview': 863, 'into': 864, 'intro': 865, 'introduc': 866, 'inumb': 867, 'invest': 868, 'investig': 869, 'investor': 870, 'invok': 871, 'involv': 872, 'ip': 873, 'ireland': 874, 'irish': 875, 'is': 876, 'island': 877, 'isn': 878, 'iso': 879, 'isp': 880, 'issu': 881, 'it': 882, 'item': 883, 'itself': 884, 'jabber': 885, 'jame': 886, 'java': 887, 'jim': 888, 'jnumberiiiiiiihepihepihf': 889, 'job': 890, 'joe': 891, 'john': 892, 'join': 893, 'journal': 894, 'judg': 895, 'judgment': 896, 'jul': 897, 'juli': 898, 'jump': 899, 'june': 900, 'just': 901, 'justin': 902, 'keep': 903, 'kei': 904, 'kept': 905, 'kernel': 906, 'kevin': 907, 'keyboard': 908, 'kid': 909, 'kill': 910, 'kind': 911, 'king': 912, 'kingdom': 913, 'knew': 914, 'know': 915, 'knowledg': 916, 'known': 917, 'la': 918, 'lack': 919, 'land': 920, 'languag': 921, 'laptop': 922, 'larg': 923, 'larger': 924, 'largest': 925, 'laser': 926, 'last': 927, 'late': 928, 'later': 929, 'latest': 930, 'launch': 931, 'law': 932, 'lawrenc': 933, 'le': 934, 'lead': 935, 'leader': 936, 'learn': 937, 'least': 938, 'leav': 939, 'left': 940, 'legal': 941, 'lender': 942, 'length': 943, 'less': 944, 'lesson': 945, 'let': 946, 'letter': 947, 'level': 948, 'lib': 949, 'librari': 950, 'licens': 951, 'life': 952, 'lifetim': 953, 'light': 954, 'like': 955, 'limit': 956, 'line': 957, 'link': 958, 'linux': 959, 'list': 960, 'listen': 961, 'littl': 962, 'live': 963, 'll': 964, 'lo': 965, 'load': 966, 'loan': 967, 'local': 968, 'locat': 969, 'lock': 970, 'lockergnom': 971, 'log': 972, 'long': 973, 'longer': 974, 'look': 975, 'lose': 976, 'loss': 977, 'lost': 978, 'lot': 979, 'love': 980, 'low': 981, 'lower': 982, 'lowest': 983, 'lt': 984, 'ma': 985, 'mac': 986, 'machin': 987, 'made': 988, 'magazin': 989, 'mai': 990, 'mail': 991, 'mailer': 992, 'main': 993, 'maintain': 994, 'major': 995, 'make': 996, 'maker': 997, 'male': 998, 'man': 999, 'manag': 1000, 'mani': 1001, 'manual': 1002, 'manufactur': 1003, 'map': 1004, 'march': 1005, 'margin': 1006, 'mark': 1007, 'market': 1008, 'marshal': 1009, 'mass': 1010, 'master': 1011, 'match': 1012, 'materi': 1013, 'matter': 1014, 'matthia': 1015, 'mayb': 1016, 'me': 1017, 'mean': 1018, 'measur': 1019, 'mechan': 1020, 'media': 1021, 'medic': 1022, 'meet': 1023, 'member': 1024, 'membership': 1025, 'memori': 1026, 'men': 1027, 'mention': 1028, 'menu': 1029, 'merchant': 1030, 'messag': 1031, 'method': 1032, 'mh': 1033, 'michael': 1034, 'microsoft': 1035, 'middl': 1036, 'might': 1037, 'mike': 1038, 'mile': 1039, 'militari': 1040, 'million': 1041, 'mime': 1042, 'mind': 1043, 'mine': 1044, 'mini': 1045, 'minimum': 1046, 'minut': 1047, 'miss': 1048, 'mistak': 1049, 'mobil': 1050, 'mode': 1051, 'model': 1052, 'modem': 1053, 'modifi': 1054, 'modul': 1055, 'moment': 1056, 'mon': 1057, 'mondai': 1058, 'monei': 1059, 'monitor': 1060, 'month': 1061, 'monthli': 1062, 'more': 1063, 'morn': 1064, 'mortgag': 1065, 'most': 1066, 'mostli': 1067, 'mother': 1068, 'motiv': 1069, 'move': 1070, 'movi': 1071, 'mpnumber': 1072, 'mr': 1073, 'ms': 1074, 'msg': 1075, 'much': 1076, 'multi': 1077, 'multipart': 1078, 'multipl': 1079, 'murphi': 1080, 'music': 1081, 'must': 1082, 'my': 1083, 'myself': 1084, 'name': 1085, 'nation': 1086, 'natur': 1087, 'nbsp': 1088, 'near': 1089, 'nearli': 1090, 'necessari': 1091, 'need': 1092, 'neg': 1093, 'net': 1094, 'netscap': 1095, 'network': 1096, 'never': 1097, 'new': 1098, 'newslett': 1099, 'next': 1100, 'nextpart': 1101, 'nice': 1102, 'nigeria': 1103, 'night': 1104, 'no': 1105, 'nobodi': 1106, 'non': 1107, 'none': 1108, 'nor': 1109, 'normal': 1110, 'north': 1111, 'not': 1112, 'note': 1113, 'noth': 1114, 'notic': 1115, 'now': 1116, 'nt': 1117, 'null': 1118, 'number': 1119, 'numbera': 1120, 'numberam': 1121, 'numberanumb': 1122, 'numberb': 1123, 'numberbit': 1124, 'numberc': 1125, 'numbercb': 1126, 'numbercbr': 1127, 'numbercfont': 1128, 'numbercli': 1129, 'numbercnumb': 1130, 'numbercp': 1131, 'numberctd': 1132, 'numberd': 1133, 'numberdari': 1134, 'numberdnumb': 1135, 'numberenumb': 1136, 'numberf': 1137, 'numberfb': 1138, 'numberff': 1139, 'numberffont': 1140, 'numberfp': 1141, 'numberftd': 1142, 'numberk': 1143, 'numberm': 1144, 'numbermb': 1145, 'numberp': 1146, 'numberpd': 1147, 'numberpm': 1148, 'numberpx': 1149, 'numberst': 1150, 'numberth': 1151, 'numbertnumb': 1152, 'numberx': 1153, 'object': 1154, 'oblig': 1155, 'obtain': 1156, 'obvious': 1157, 'occur': 1158, 'oct': 1159, 'octob': 1160, 'of': 1161, 'off': 1162, 'offer': 1163, 'offic': 1164, 'offici': 1165, 'often': 1166, 'oh': 1167, 'ok': 1168, 'old': 1169, 'on': 1170, 'onc': 1171, 'onli': 1172, 'onlin': 1173, 'open': 1174, 'oper': 1175, 'opinion': 1176, 'opportun': 1177, 'opt': 1178, 'optim': 1179, 'option': 1180, 'or': 1181, 'order': 1182, 'org': 1183, 'organ': 1184, 'origin': 1185, 'os': 1186, 'osdn': 1187, 'other': 1188, 'otherwis': 1189, 'our': 1190, 'out': 1191, 'outlook': 1192, 'output': 1193, 'outsid': 1194, 'over': 1195, 'own': 1196, 'owner': 1197, 'oz': 1198, 'pacif': 1199, 'pack': 1200, 'packag': 1201, 'page': 1202, 'pai': 1203, 'paid': 1204, 'pain': 1205, 'palm': 1206, 'panel': 1207, 'paper': 1208, 'paragraph': 1209, 'parent': 1210, 'part': 1211, 'parti': 1212, 'particip': 1213, 'particular': 1214, 'particularli': 1215, 'partit': 1216, 'partner': 1217, 'pass': 1218, 'password': 1219, 'past': 1220, 'patch': 1221, 'patent': 1222, 'path': 1223, 'pattern': 1224, 'paul': 1225, 'payment': 1226, 'pc': 1227, 'peac': 1228, 'peopl': 1229, 'per': 1230, 'percent': 1231, 'percentag': 1232, 'perfect': 1233, 'perfectli': 1234, 'perform': 1235, 'perhap': 1236, 'period': 1237, 'perl': 1238, 'perman': 1239, 'permiss': 1240, 'person': 1241, 'pgp': 1242, 'phone': 1243, 'photo': 1244, 'php': 1245, 'phrase': 1246, 'physic': 1247, 'pick': 1248, 'pictur': 1249, 'piec': 1250, 'piiiiiiii': 1251, 'pipe': 1252, 'pjnumber': 1253, 'place': 1254, 'plai': 1255, 'plain': 1256, 'plan': 1257, 'planet': 1258, 'plant': 1259, 'planta': 1260, 'platform': 1261, 'player': 1262, 'pleas': 1263, 'plu': 1264, 'plug': 1265, 'pm': 1266, 'pocket': 1267, 'point': 1268, 'polic': 1269, 'polici': 1270, 'polit': 1271, 'poor': 1272, 'pop': 1273, 'popul': 1274, 'popular': 1275, 'port': 1276, 'posit': 1277, 'possibl': 1278, 'post': 1279, 'potenti': 1280, 'pound': 1281, 'powel': 1282, 'power': 1283, 'powershot': 1284, 'practic': 1285, 'pre': 1286, 'predict': 1287, 'prefer': 1288, 'premium': 1289, 'prepar': 1290, 'present': 1291, 'presid': 1292, 'press': 1293, 'pretti': 1294, 'prevent': 1295, 'previou': 1296, 'previous': 1297, 'price': 1298, 'principl': 1299, 'print': 1300, 'printabl': 1301, 'printer': 1302, 'privaci': 1303, 'privat': 1304, 'prize': 1305, 'pro': 1306, 'probabl': 1307, 'problem': 1308, 'procedur': 1309, 'process': 1310, 'processor': 1311, 'procmail': 1312, 'produc': 1313, 'product': 1314, 'profession': 1315, 'profil': 1316, 'profit': 1317, 'program': 1318, 'programm': 1319, 'progress': 1320, 'project': 1321, 'promis': 1322, 'promot': 1323, 'prompt': 1324, 'properti': 1325, 'propos': 1326, 'proprietari': 1327, 'prospect': 1328, 'protect': 1329, 'protocol': 1330, 'prove': 1331, 'proven': 1332, 'provid': 1333, 'proxi': 1334, 'pub': 1335, 'public': 1336, 'publish': 1337, 'pudg': 1338, 'pull': 1339, 'purchas': 1340, 'purpos': 1341, 'put': 1342, 'python': 1343, 'qnumber': 1344, 'qualifi': 1345, 'qualiti': 1346, 'quarter': 1347, 'question': 1348, 'quick': 1349, 'quickli': 1350, 'quit': 1351, 'quot': 1352, 'radio': 1353, 'ragga': 1354, 'rais': 1355, 'random': 1356, 'rang': 1357, 'rate': 1358, 'rather': 1359, 'ratio': 1360, 'razor': 1361, 'razornumb': 1362, 're': 1363, 'reach': 1364, 'read': 1365, 'reader': 1366, 'readi': 1367, 'real': 1368, 'realiz': 1369, 'realli': 1370, 'reason': 1371, 'receiv': 1372, 'recent': 1373, 'recipi': 1374, 'recommend': 1375, 'record': 1376, 'red': 1377, 'redhat': 1378, 'reduc': 1379, 'refer': 1380, 'refin': 1381, 'reg': 1382, 'regard': 1383, 'region': 1384, 'regist': 1385, 'regul': 1386, 'regular': 1387, 'rel': 1388, 'relat': 1389, 'relationship': 1390, 'releas': 1391, 'relev': 1392, 'reliabl': 1393, 'remain': 1394, 'rememb': 1395, 'remot': 1396, 'remov': 1397, 'replac': 1398, 'repli': 1399, 'report': 1400, 'repositori': 1401, 'repres': 1402, 'republ': 1403, 'request': 1404, 'requir': 1405, 'research': 1406, 'reserv': 1407, 'resid': 1408, 'resourc': 1409, 'respect': 1410, 'respond': 1411, 'respons': 1412, 'rest': 1413, 'result': 1414, 'retail': 1415, 'return': 1416, 'reveal': 1417, 'revenu': 1418, 'revers': 1419, 'review': 1420, 'revok': 1421, 'rh': 1422, 'rich': 1423, 'right': 1424, 'risk': 1425, 'road': 1426, 'robert': 1427, 'rock': 1428, 'role': 1429, 'roll': 1430, 'rom': 1431, 'roman': 1432, 'room': 1433, 'root': 1434, 'round': 1435, 'rpm': 1436, 'rss': 1437, 'rule': 1438, 'run': 1439, 'sa': 1440, 'safe': 1441, 'sai': 1442, 'said': 1443, 'sale': 1444, 'same': 1445, 'sampl': 1446, 'san': 1447, 'saou': 1448, 'sat': 1449, 'satellit': 1450, 'save': 1451, 'saw': 1452, 'scan': 1453, 'schedul': 1454, 'school': 1455, 'scienc': 1456, 'score': 1457, 'screen': 1458, 'script': 1459, 'se': 1460, 'search': 1461, 'season': 1462, 'second': 1463, 'secret': 1464, 'section': 1465, 'secur': 1466, 'see': 1467, 'seed': 1468, 'seek': 1469, 'seem': 1470, 'seen': 1471, 'select': 1472, 'self': 1473, 'sell': 1474, 'seminar': 1475, 'send': 1476, 'sender': 1477, 'sendmail': 1478, 'senior': 1479, 'sens': 1480, 'sensit': 1481, 'sent': 1482, 'sep': 1483, 'separ': 1484, 'septemb': 1485, 'sequenc': 1486, 'seri': 1487, 'serif': 1488, 'seriou': 1489, 'serv': 1490, 'server': 1491, 'servic': 1492, 'set': 1493, 'setup': 1494, 'seven': 1495, 'seventh': 1496, 'sever': 1497, 'sex': 1498, 'sexual': 1499, 'sf': 1500, 'shape': 1501, 'share': 1502, 'she': 1503, 'shell': 1504, 'ship': 1505, 'shop': 1506, 'short': 1507, 'shot': 1508, 'should': 1509, 'show': 1510, 'side': 1511, 'sign': 1512, 'signatur': 1513, 'signific': 1514, 'similar': 1515, 'simpl': 1516, 'simpli': 1517, 'sinc': 1518, 'sincer': 1519, 'singl': 1520, 'sit': 1521, 'site': 1522, 'situat': 1523, 'six': 1524, 'size': 1525, 'skeptic': 1526, 'skill': 1527, 'skin': 1528, 'skip': 1529, 'sleep': 1530, 'slow': 1531, 'small': 1532, 'smart': 1533, 'smoke': 1534, 'smtp': 1535, 'snumber': 1536, 'so': 1537, 'social': 1538, 'societi': 1539, 'softwar': 1540, 'sold': 1541, 'solut': 1542, 'solv': 1543, 'some': 1544, 'someon': 1545, 'someth': 1546, 'sometim': 1547, 'son': 1548, 'song': 1549, 'soni': 1550, 'soon': 1551, 'sorri': 1552, 'sort': 1553, 'sound': 1554, 'sourc': 1555, 'south': 1556, 'space': 1557, 'spain': 1558, 'spam': 1559, 'spamassassin': 1560, 'spamd': 1561, 'spammer': 1562, 'speak': 1563, 'spec': 1564, 'special': 1565, 'specif': 1566, 'specifi': 1567, 'speech': 1568, 'speed': 1569, 'spend': 1570, 'sponsor': 1571, 'sport': 1572, 'spot': 1573, 'src': 1574, 'ssh': 1575, 'st': 1576, 'stabl': 1577, 'staff': 1578, 'stai': 1579, 'stand': 1580, 'standard': 1581, 'star': 1582, 'start': 1583, 'state': 1584, 'statement': 1585, 'statu': 1586, 'step': 1587, 'steve': 1588, 'still': 1589, 'stock': 1590, 'stop': 1591, 'storag': 1592, 'store': 1593, 'stori': 1594, 'strategi': 1595, 'stream': 1596, 'street': 1597, 'string': 1598, 'strip': 1599, 'strong': 1600, 'structur': 1601, 'studi': 1602, 'stuff': 1603, 'stupid': 1604, 'style': 1605, 'subject': 1606, 'submit': 1607, 'subscrib': 1608, 'subscript': 1609, 'substanti': 1610, 'success': 1611, 'such': 1612, 'suffer': 1613, 'suggest': 1614, 'suit': 1615, 'sum': 1616, 'summari': 1617, 'summer': 1618, 'sun': 1619, 'super': 1620, 'suppli': 1621, 'support': 1622, 'suppos': 1623, 'sure': 1624, 'surpris': 1625, 'suse': 1626, 'suspect': 1627, 'sweet': 1628, 'switch': 1629, 'system': 1630, 'tab': 1631, 'tabl': 1632, 'tablet': 1633, 'tag': 1634, 'take': 1635, 'taken': 1636, 'talk': 1637, 'tape': 1638, 'target': 1639, 'task': 1640, 'tax': 1641, 'teach': 1642, 'team': 1643, 'tech': 1644, 'technic': 1645, 'techniqu': 1646, 'technolog': 1647, 'tel': 1648, 'telecom': 1649, 'telephon': 1650, 'tell': 1651, 'temperatur': 1652, 'templ': 1653, 'ten': 1654, 'term': 1655, 'termin': 1656, 'terror': 1657, 'terrorist': 1658, 'test': 1659, 'texa': 1660, 'text': 1661, 'than': 1662, 'thank': 1663, 'that': 1664, 'the': 1665, 'thei': 1666, 'their': 1667, 'them': 1668, 'themselv': 1669, 'then': 1670, 'theori': 1671, 'there': 1672, 'therefor': 1673, 'these': 1674, 'thi': 1675, 'thing': 1676, 'think': 1677, 'thinkgeek': 1678, 'third': 1679, 'those': 1680, 'though': 1681, 'thought': 1682, 'thousand': 1683, 'thread': 1684, 'threat': 1685, 'three': 1686, 'through': 1687, 'thu': 1688, 'thursdai': 1689, 'ti': 1690, 'ticket': 1691, 'tim': 1692, 'time': 1693, 'tip': 1694, 'tire': 1695, 'titl': 1696, 'tm': 1697, 'to': 1698, 'todai': 1699, 'togeth': 1700, 'token': 1701, 'told': 1702, 'toll': 1703, 'tom': 1704, 'toner': 1705, 'toni': 1706, 'too': 1707, 'took': 1708, 'tool': 1709, 'top': 1710, 'topic': 1711, 'total': 1712, 'touch': 1713, 'toward': 1714, 'track': 1715, 'trade': 1716, 'tradit': 1717, 'traffic': 1718, 'train': 1719, 'transact': 1720, 'transfer': 1721, 'travel': 1722, 'treat': 1723, 'tree': 1724, 'tri': 1725, 'trial': 1726, 'trick': 1727, 'trip': 1728, 'troubl': 1729, 'true': 1730, 'truli': 1731, 'trust': 1732, 'truth': 1733, 'try': 1734, 'tue': 1735, 'tuesdai': 1736, 'turn': 1737, 'tv': 1738, 'two': 1739, 'type': 1740, 'uk': 1741, 'ultim': 1742, 'un': 1743, 'under': 1744, 'understand': 1745, 'unfortun': 1746, 'uniqu': 1747, 'unison': 1748, 'unit': 1749, 'univers': 1750, 'unix': 1751, 'unless': 1752, 'unlik': 1753, 'unlimit': 1754, 'unseen': 1755, 'unsolicit': 1756, 'unsubscrib': 1757, 'until': 1758, 'up': 1759, 'updat': 1760, 'upgrad': 1761, 'upon': 1762, 'urgent': 1763, 'url': 1764, 'us': 1765, 'usa': 1766, 'usag': 1767, 'usb': 1768, 'usd': 1769, 'usdollarnumb': 1770, 'useless': 1771, 'user': 1772, 'usr': 1773, 'usual': 1774, 'util': 1775, 'vacat': 1776, 'valid': 1777, 'valu': 1778, 'valuabl': 1779, 'var': 1780, 'variabl': 1781, 'varieti': 1782, 'variou': 1783, 've': 1784, 'vendor': 1785, 'ventur': 1786, 'veri': 1787, 'verifi': 1788, 'version': 1789, 'via': 1790, 'video': 1791, 'view': 1792, 'virtual': 1793, 'visa': 1794, 'visit': 1795, 'visual': 1796, 'vnumber': 1797, 'voic': 1798, 'vote': 1799, 'vs': 1800, 'vulner': 1801, 'wa': 1802, 'wai': 1803, 'wait': 1804, 'wake': 1805, 'walk': 1806, 'wall': 1807, 'want': 1808, 'war': 1809, 'warm': 1810, 'warn': 1811, 'warranti': 1812, 'washington': 1813, 'wasn': 1814, 'wast': 1815, 'watch': 1816, 'water': 1817, 'we': 1818, 'wealth': 1819, 'weapon': 1820, 'web': 1821, 'weblog': 1822, 'websit': 1823, 'wed': 1824, 'wednesdai': 1825, 'week': 1826, 'weekli': 1827, 'weight': 1828, 'welcom': 1829, 'well': 1830, 'went': 1831, 'were': 1832, 'west': 1833, 'what': 1834, 'whatev': 1835, 'when': 1836, 'where': 1837, 'whether': 1838, 'which': 1839, 'while': 1840, 'white': 1841, 'whitelist': 1842, 'who': 1843, 'whole': 1844, 'whose': 1845, 'why': 1846, 'wi': 1847, 'wide': 1848, 'width': 1849, 'wife': 1850, 'will': 1851, 'william': 1852, 'win': 1853, 'window': 1854, 'wing': 1855, 'winner': 1856, 'wireless': 1857, 'wish': 1858, 'with': 1859, 'within': 1860, 'without': 1861, 'wnumberp': 1862, 'woman': 1863, 'women': 1864, 'won': 1865, 'wonder': 1866, 'word': 1867, 'work': 1868, 'worker': 1869, 'world': 1870, 'worldwid': 1871, 'worri': 1872, 'worst': 1873, 'worth': 1874, 'would': 1875, 'wouldn': 1876, 'write': 1877, 'written': 1878, 'wrong': 1879, 'wrote': 1880, 'www': 1881, 'ximian': 1882, 'xml': 1883, 'xp': 1884, 'yahoo': 1885, 'ye': 1886, 'yeah': 1887, 'year': 1888, 'yesterdai': 1889, 'yet': 1890, 'york': 1891, 'you': 1892, 'young': 1893, 'your': 1894, 'yourself': 1895, 'zdnet': 1896, 'zero': 1897, 'zip': 1898}\n"
     ]
    }
   ],
   "source": [
    "def read_file(file):\n",
    "    with open(file) as f:\n",
    "        return f.read()\n",
    "    \n",
    "email_1 = read_file('D:\\\\learningMaterial\\\\PythonLanguage\\\\NoteBook\\\\machine-learning-notebooks-master\\\\data\\\\ml-ex6\\\\emailSample1.txt')\n",
    "email_2 = read_file(\"D:\\\\learningMaterial\\\\PythonLanguage\\\\NoteBook\\\\machine-learning-notebooks-master\\\\data\\\\ml-ex6\\\\emailSample2.txt\")\n",
    "\n",
    "spam_1 = read_file(\"D:\\\\learningMaterial\\\\PythonLanguage\\\\NoteBook\\\\machine-learning-notebooks-master\\\\data\\\\ml-ex6\\\\spamSample1.txt\")\n",
    "spam_2 = read_file(\"D:\\\\learningMaterial\\\\PythonLanguage\\\\NoteBook\\\\machine-learning-notebooks-master\\\\data\\\\ml-ex6\\\\spamSample2.txt\")\n"
   ]
  },
  {
   "cell_type": "code",
   "execution_count": 22,
   "metadata": {
    "collapsed": true
   },
   "outputs": [],
   "source": [
    "# 对数据进行预处理\n",
    "# step1：将一封未处理的文本进行分词\n",
    "# step2: 对照vocab字典，通过0、1的矩阵来表示分词是否出现在字典中\n",
    "# step3： 以step2中产生的矩阵作为输入，预测输出，判断邮件是否是垃圾邮件"
   ]
  },
  {
   "cell_type": "markdown",
   "metadata": {},
   "source": [
    "### k-means 聚类和pca主成分分析\n"
   ]
  },
  {
   "cell_type": "code",
   "execution_count": 23,
   "metadata": {
    "collapsed": true
   },
   "outputs": [],
   "source": [
    "import numpy as  np\n",
    "import scipy.io as sio\n",
    "import scipy.misc as sm\n",
    "import matplotlib.pyplot as plt\n",
    "from matplotlib.colors import ListedColormap, NoNorm\n",
    "from mpl_toolkits.mplot3d import Axes3D\n",
    "from sklearn.cluster import KMeans\n",
    "from sklearn.decomposition import PCA\n",
    "from sklearn.pipeline import Pipeline\n",
    "from sklearn.preprocessing import StandardScaler\n",
    "% %matplotlib inline\n",
    "# 中文\n",
    "from matplotlib.font_manager import FontProperties \n",
    "font_set = FontProperties(fname=r\"c:\\windows\\Fonts\\simsun.ttc\", size=12) "
   ]
  },
  {
   "cell_type": "code",
   "execution_count": 24,
   "metadata": {
    "collapsed": true
   },
   "outputs": [],
   "source": [
    "data = sio.loadmat(\"D:\\\\learningMaterial\\\\PythonLanguage\\\\NoteBook\\\\machine-learning-notebooks-master\\\\data\\\\ml-ex7\\\\ex7data2.mat\")"
   ]
  },
  {
   "cell_type": "code",
   "execution_count": 29,
   "metadata": {},
   "outputs": [
    {
     "data": {
      "text/plain": [
       "KMeans(algorithm='auto', copy_x=True, init='k-means++', max_iter=300,\n",
       "    n_clusters=3, n_init=10, n_jobs=1, precompute_distances='auto',\n",
       "    random_state=None, tol=0.0001, verbose=0)"
      ]
     },
     "execution_count": 29,
     "metadata": {},
     "output_type": "execute_result"
    }
   ],
   "source": [
    "X = data['X']\n",
    "kmeans = KMeans(n_clusters=3)\n",
    "kmeans.fit(X)"
   ]
  },
  {
   "cell_type": "code",
   "execution_count": 34,
   "metadata": {},
   "outputs": [],
   "source": [
    "y = kmeans.labels_"
   ]
  },
  {
   "cell_type": "code",
   "execution_count": 36,
   "metadata": {},
   "outputs": [
    {
     "data": {
      "image/png": "[encoded data removed]",
      "text/plain": [
       "<matplotlib.figure.Figure at 0xcc062e8>"
      ]
     },
     "metadata": {},
     "output_type": "display_data"
    }
   ],
   "source": [
    "# 绘制不同的集群\n",
    "def plot_cluster(X, y, color, cluster):\n",
    "    plt.plot(X[y==cluster,0], X[y==cluster,1], f'{color}o', label=f'Cluster{cluster}')\n",
    "for i, color in enumerate('rgb'):\n",
    "    plot_cluster(X, y, color, i)\n",
    "plt.show()"
   ]
  },
  {
   "cell_type": "code",
   "execution_count": null,
   "metadata": {
    "collapsed": true
   },
   "outputs": [],
   "source": []
  }
 ],
 "metadata": {
  "kernelspec": {
   "display_name": "Python 3",
   "language": "python",
   "name": "python3"
  },
  "language_info": {
   "codemirror_mode": {
    "name": "ipython",
    "version": 3
   },
   "file_extension": ".py",
   "mimetype": "text/x-python",
   "name": "python",
   "nbconvert_exporter": "python",
   "pygments_lexer": "ipython3",
   "version": "3.6.3"
  }
 },
 "nbformat": 4,
 "nbformat_minor": 2
}
