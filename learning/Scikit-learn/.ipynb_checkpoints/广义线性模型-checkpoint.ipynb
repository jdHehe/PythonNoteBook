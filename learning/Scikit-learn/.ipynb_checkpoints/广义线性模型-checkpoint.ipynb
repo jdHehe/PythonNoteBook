{
 "cells": [
  {
   "cell_type": "code",
   "execution_count": null,
   "metadata": {
    "collapsed": true
   },
   "outputs": [],
   "source": [
    "# 广义线性模型\n",
    "## 公式： \n",
    "$y = g^{-1}(\\omega^T*x+b)$\n",
    "\n",
    "### 线性模型集合\n",
    "\n",
    "#### 最小二乘\n",
    "`LinearRegression` : 线性回归  <br>\n",
    "求解的问题：$min_\\omega||X*\\omega-y||_2^2$ <br>\n",
    "复杂度： 求解LinearRegresion问题用到了样本矩阵X的奇异值分解，假设X=Matrix(n,p) 则复杂度为$O(n*p^2)$\n",
    "\n",
    "#### 岭回归\n",
    "`RidgeRegression` <br>\n",
    "求解的问题： $min_\\omega||X*\\omega-y||_2^2+\\alpha||w||_2^2$   $\\alpha$ > 0 <br>\n",
    "相较之`LinearRegession`增加了一个L2正则项， 参数$\\alpha$越大，$\\omega$波动越小 <br>\n",
    "复杂度和`LinearRegression`相同 <br>\n",
    "\n",
    "`RidgeCV` 实现了岭回归并且通过cv来寻找更优的$\\alpha$参数 利用了 留一法 \n",
    "\n",
    "#### Lasso （Least absolute shrinkage and selection operator）压缩估计\n",
    "适用于系数稀疏的情况\n",
    "求解的问题: $min_\\omega\\frac{1}{1*n_{samples}}||X*\\omega-y||_2^2+\\alpha*||\\omega||_1$      n是样本数 <br>\n",
    "如上所示，Lasso采用了L1正则，L1正则较之L2正则更易获得稀疏解   <br>\n",
    "由于Lasso Regression易于产生稀疏解，所以常用于特征提取  <br>\n",
    "##### 参数优化\n",
    "参数`$\\alpha$`对解的稀疏程度产生非常大的影响，所以需要进行参数优化 <br>\n",
    "`LassoCV、LassoLarsCV、LassoLarsCV` :通过 交叉验证 来寻找$\\alpha$ <br>\n",
    "用坐标下降法来寻找最优的参数   <br>\n",
    "\n",
    "##### 多分类的Lasso\n",
    "`MultiTaskLasso`  <br>\n",
    "优化公式：  $min_\\omega\\frac{1}{2*n_{samples}}||X*\\omega-Y||_{Fro}^2+\\alpha*||\\omega||_{21}$   where $||A||_{Fro}=\\sqrt{\\sum_i^ja_{ij}^2}$    and       $||\\omega||_{ij}=\\sum_i\\sqrt{\\sum_j\\omega_{ij}^2}$\n",
    "\n",
    "\n",
    "##### Elastic Net 结合了L1正则和L2正则\n",
    "`ElasticNet`\n",
    "`MultiTaskElasticNet`"
   ]
  },
  {
   "cell_type": "code",
   "execution_count": null,
   "metadata": {
    "collapsed": true
   },
   "outputs": [],
   "source": []
  },
  {
   "cell_type": "code",
   "execution_count": null,
   "metadata": {
    "collapsed": true
   },
   "outputs": [],
   "source": []
  }
 ],
 "metadata": {
  "kernelspec": {
   "display_name": "Python 3",
   "language": "python",
   "name": "python3"
  },
  "language_info": {
   "codemirror_mode": {
    "name": "ipython",
    "version": 3
   },
   "file_extension": ".py",
   "mimetype": "text/x-python",
   "name": "python",
   "nbconvert_exporter": "python",
   "pygments_lexer": "ipython3",
   "version": "3.6.3"
  }
 },
 "nbformat": 4,
 "nbformat_minor": 2
}
